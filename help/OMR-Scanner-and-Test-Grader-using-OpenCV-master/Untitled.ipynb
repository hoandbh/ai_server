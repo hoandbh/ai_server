{
 "cells": [
  {
   "cell_type": "code",
   "execution_count": null,
   "id": "c333029d",
   "metadata": {},
   "outputs": [],
   "source": [
    "from imutils.perspective import four_point_transform\n",
    "from imutils import contours\n",
    "import imutils\n",
    "import cv2\n",
    "import numpy as np\n",
    "import argparse\n",
    "import random\n",
    "import matplotlib.pyplot as plt\n",
    "\n",
    "def show_images(images, titles, kill_later=True):\n",
    "    for index, image in enumerate(images):\n",
    "        cv2.imshow(titles[index], image)\n",
    "    cv2.waitKey(0)\n",
    "    if kill_later:\n",
    "        cv2.destroyAllWindows()\n",
    "        \n",
    "# edge detection\n",
    "image = cv2.imread( \"images/scan_test.jpg\")\n",
    "gray = cv2.cvtColor(image, cv2.COLOR_BGR2GRAY)\n",
    "blurred = cv2.GaussianBlur(gray, (5, 5), 0)\n",
    "edged = cv2.Canny(blurred, 75, 200)\n",
    "show_images([edged], [\"Edged\"])\n",
    "\n",
    "# find contours in edge detected image\n",
    "cnts = cv2.findContours(edged, cv2.RETR_EXTERNAL, cv2.CHAIN_APPROX_SIMPLE)\n",
    "cnts = imutils.grab_contours(cnts)\n",
    "docCnt = None\n",
    "\n",
    "allContourImage = image.copy()\n",
    "cv2.drawContours(allContourImage, cnts, -1, (0, 0, 255), 3)\n",
    "print(\"Total contours found after edge detection {}\".format(len(cnts)))\n",
    "show_images([allContourImage], [\"All contours from edge detected image\"])\n",
    "\n",
    "# finding the document contour\n",
    "if len(cnts) > 0:\n",
    "    cnts = sorted(cnts, key=cv2.contourArea, reverse=True)\n",
    "\n",
    "    for c in cnts:\n",
    "        peri = cv2.arcLength(c, closed=True)\n",
    "        approx = cv2.approxPolyDP(c, epsilon=peri*0.02, closed=True)\n",
    "\n",
    "        if len(approx) == 4:\n",
    "            docCnt = approx\n",
    "            break\n",
    "\n",
    "contourImage = image.copy()\n",
    "cv2.drawContours(contourImage, [docCnt], -1, (0, 0, 255), 2)\n",
    "show_images([contourImage], [\"Outline\"])\n",
    "\n",
    "# Getting the bird's eye view, top-view of the document\n",
    "paper = four_point_transform(image, docCnt.reshape(4, 2))\n",
    "warped = four_point_transform(gray, docCnt.reshape(4, 2))\n",
    "show_images([paper, warped], [\"Paper\", \"Gray\"])"
   ]
  },
  {
   "cell_type": "code",
   "execution_count": null,
   "id": "9bb789ca",
   "metadata": {},
   "outputs": [],
   "source": []
  }
 ],
 "metadata": {
  "kernelspec": {
   "display_name": "Python 3 (ipykernel)",
   "language": "python",
   "name": "python3"
  },
  "language_info": {
   "codemirror_mode": {
    "name": "ipython",
    "version": 3
   },
   "file_extension": ".py",
   "mimetype": "text/x-python",
   "name": "python",
   "nbconvert_exporter": "python",
   "pygments_lexer": "ipython3",
   "version": "3.11.2"
  }
 },
 "nbformat": 4,
 "nbformat_minor": 5
}
